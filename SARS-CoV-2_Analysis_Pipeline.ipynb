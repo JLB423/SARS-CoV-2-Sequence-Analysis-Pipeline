{
 "cells": [
  {
   "cell_type": "code",
   "execution_count": 1,
   "metadata": {},
   "outputs": [
    {
     "ename": "IndentationError",
     "evalue": "unexpected indent (<ipython-input-1-fbac85b49017>, line 24)",
     "output_type": "error",
     "traceback": [
      "\u001b[1;36m  File \u001b[1;32m\"<ipython-input-1-fbac85b49017>\"\u001b[1;36m, line \u001b[1;32m24\u001b[0m\n\u001b[1;33m    \"\"\"\u001b[0m\n\u001b[1;37m    ^\u001b[0m\n\u001b[1;31mIndentationError\u001b[0m\u001b[1;31m:\u001b[0m unexpected indent\n"
     ]
    }
   ],
   "source": [
    "#Step 1: parse the file to get a seperate file for each gene with its coding sequeces and strain. \n",
    "    #get a file for the cds for each gene in the SARS fasta file\n",
    "#step 2: \n",
    "    #a. Break each cds file into subgroups based on strain\n",
    "    #b. then, for each gene we are going to translate the gene - create a new file where each CDS \n",
    "    #has been translated to its amino acid sequence\n",
    "\n",
    "#so we will have 3 output groups:\n",
    "    #1. CDS's by each gene type\n",
    "    #2. Coding Seqs of each subgroup based on the strain\n",
    "    #3.translated CDS for each gene and for each subgroup\n",
    "\n",
    "#Step3: Snp mapping - map the snps from the wild type whole genome and get a whole mutated genome file\n",
    "    #Then we want to do a pairwise alignment for each gene (or just a few) against the mutated genome\n",
    "    #percent cutoff: we will to generate reports based on different values - \n",
    "        #a. 100% = exact matches\n",
    "        #b. 98-99%\n",
    "        #c. 95-97%\n",
    "#look at changes that occur in less than 10 times. \n",
    "\n",
    "#Last step: what does it all mean? \n",
    "\n",
    "#these are the genes:\n",
    "\"\"\"\n",
    "    E\n",
    "    N\n",
    "    orf1ab\n",
    "    S\n",
    "    M\n",
    "    ORF10\n",
    "    ORF3a\n",
    "    ORF8\n",
    "\"\"\" "
   ]
  },
  {
   "cell_type": "code",
   "execution_count": 10,
   "metadata": {},
   "outputs": [],
   "source": [
    "#Analysis Pipeline Part 1:\n",
    "    #Parse the fasta file to pull out each cds for all the genes and strains - save in a file for each gene\n",
    "    #use the SNP table to map mutations to the reference genome to create a new file with the mutated snps incorporated\n",
    "    #perform this operation for each genome strain\n",
    "    #Parse the coding sequences for ORF1ab into its corresponding polypeptide seqeunce - call it ORF1ab_PP.fasta\n",
    "\n",
    "from Bio import SeqIO\n",
    "import os\n",
    "import re\n",
    "   \n",
    "def parse_fasta_per_gene (input_file):\n",
    "    with open (input_file, 'r') as input_file:\n",
    "        output_dir = os.getcwd()\n",
    "        if not os.path.isdir(output_dir + '/SARS-CoV2_CDS_Outputfile/' ):\n",
    "            os.mkdir(output_dir + '/SARS-CoV2_CDS_Outputfile/')\n",
    "\n",
    "        Genes = ['E','M','N', 'NS3','NS6','NS7a','NS7b','NS8','orf1a','orf1ab','S','ORF10','ORF3a','ORF6','ORF7','ORF7a','ORF8']\n",
    "        list = []\n",
    "        #loop through each element to split\n",
    "        for element in input_file:\n",
    "            list.append(element)           \n",
    "        line = ''.join(list)\n",
    "        x = line.split('>')\n",
    "        for i in Genes:\n",
    "            symbol = 'Gene Symbol:'+ i\n",
    "            filename = symbol + '-' + '.fasta'\n",
    "            filename = filename.replace('Gene Symbol:', 'Gene_and_Strains_')\n",
    "            #open outfile for writing\n",
    "            out_file = open(output_dir + '\\\\SARS-CoV2_CDS_Outputfile\\\\' + filename, 'w')\n",
    "            for line in x:\n",
    "                if symbol in line:\n",
    "                    out_file.write(str('>') + line)\n",
    "            out_file.close()\n",
    "        print(\"Files Saved in Directory\")"
   ]
  },
  {
   "cell_type": "code",
   "execution_count": 11,
   "metadata": {},
   "outputs": [
    {
     "name": "stdout",
     "output_type": "stream",
     "text": [
      "Files Saved in Directory\n"
     ]
    }
   ],
   "source": [
    "#call the function for Gene\n",
    "parse_fasta_per_gene(\"SARS-CoV-2-CdsFastaResults.fasta\")"
   ]
  },
  {
   "cell_type": "code",
   "execution_count": 4,
   "metadata": {},
   "outputs": [],
   "source": [
    "from Bio import SeqIO\n",
    "import os\n",
    "import re\n",
    "def parse_fasta_strain (input_file):\n",
    "    with open (input_file, 'r') as input_file:\n",
    "        #open outfile for writing\n",
    "        output_dir = os.getcwd()\n",
    "        if not os.path.isdir(output_dir + '/SARS-CoV2_Orf1ab_CDS_Strains/' ):\n",
    "            os.mkdir(output_dir + '/SARS-CoV2_Orf1ab_CDS_Strains/')\n",
    "        list = []\n",
    "        #loop through each element to split\n",
    "        for element in input_file:\n",
    "            list.append(element)           \n",
    "        line = ''.join(list)\n",
    "        x = line.split('gb')\n",
    "        for line in x:\n",
    "                if 'Symbol:orf1ab' in line:\n",
    "                    strain = str(re.findall(r'Strain Name:\\w+', str(line)))\n",
    "                    filename = strain+\"_\"+\".fasta\"\n",
    "                    filename = filename.replace('/', '_')\n",
    "                    filename = filename.replace('[', '')\n",
    "                    filename = filename.replace(']', '')\n",
    "                    filename = filename.replace(\"'\", '')\n",
    "                    filename = filename.replace('/', '')\n",
    "                    filename = filename.replace('Strain Name:', 'Orf1ab_Strain_')\n",
    "                    out = open(output_dir + '\\\\SARS-CoV2_Orf1ab_CDS_Strains\\\\' + filename, 'w')\n",
    "                    out.write(str('>gb')+line)\n",
    "                    out.close()\n",
    "        print(\"Files Saved in Output directory\")"
   ]
  },
  {
   "cell_type": "code",
   "execution_count": 5,
   "metadata": {},
   "outputs": [
    {
     "name": "stdout",
     "output_type": "stream",
     "text": [
      "Files Saved in Output directory\n"
     ]
    }
   ],
   "source": [
    "parse_fasta_strain('Gene_and_Strains_orf1ab-.fasta')"
   ]
  },
  {
   "cell_type": "code",
   "execution_count": null,
   "metadata": {},
   "outputs": [],
   "source": [
    "#repeat the above code to get the strains for all of ORF1a as well"
   ]
  },
  {
   "cell_type": "code",
   "execution_count": 6,
   "metadata": {},
   "outputs": [],
   "source": [
    "#Get full genome sequence from file and turn into a list for parsing\n",
    "import os\n",
    "def Map_Mutations (input_file):\n",
    "    with open (input_file, 'r') as input_file:\n",
    "        #open fasta file to get the genome for reading\n",
    "        #remove the first line\n",
    "        header = input_file.readline()\n",
    "        #turn the sequence into a list\n",
    "        wild_type_list = [x for line in input_file.read().split('\\n') for x in line] \n",
    "        #print the first mutation location to check that it is the wildtype file\n",
    "        print(wild_type_list[240])\n",
    "   \n",
    "    #Then open the SNP location file for reading to get the mutated genome from the locations\n",
    "    with open ('countResult.txt', 'r') as input_file2:\n",
    "        #remove the first line\n",
    "        input_file2.readline()\n",
    "        #open a file to write the final mutated genome\n",
    "        out = open('NC_045512_mutated.txt', 'w') \n",
    "        #loop through the snp location file and split at the :\n",
    "        #then get insert the mutated snp at the index location in the wild type genome list \n",
    "        for i in input_file2.readlines():\n",
    "            coord, mutate = i.split(':')\n",
    "            wild_type_list[int(coord)-1] = mutate[4]\n",
    "        print(wild_type_list[240])\n",
    "        mutation = \"\".join(wild_type_list)\n",
    "\n",
    "        output_dir = os.getcwd()\n",
    "        if not os.path.isdir(output_dir + '/Mutated_fasta/' ):\n",
    "            os.mkdir(output_dir + '/Mutated_fasta/')\n",
    "        with open(output_dir + '\\\\Mutated_fasta\\\\' + 'NC_045512_Mutated.fasta', \"w\") as f:\n",
    "            f.write(str('>2019-nCoV|WH01|NC_045512|2020-01-05') + '\\n'+ mutation)\n",
    "        print( '\\n'+ \"Files Saved in Directory\" + '\\n')\n",
    "        \n",
    "        "
   ]
  },
  {
   "cell_type": "code",
   "execution_count": 7,
   "metadata": {},
   "outputs": [
    {
     "name": "stdout",
     "output_type": "stream",
     "text": [
      "C\n",
      "T\n",
      "\n",
      "Files Saved in Directory\n",
      "\n"
     ]
    }
   ],
   "source": [
    "Map_Mutations('NC_045512.fasta')"
   ]
  },
  {
   "cell_type": "code",
   "execution_count": null,
   "metadata": {},
   "outputs": [],
   "source": [
    "def Mutated_CDS_per_Genes(input_file):\n",
    "    with open (input_file, 'r') as f:   #Just make sure to change this file to the mutated file \n",
    "        data = f.read()\n",
    "        #get the mutated cds for each gene\n",
    "        #slide at the locations of each gene from the genbank file\n",
    "        ORFlab = (data[265:21555])\n",
    "        #write the sliced data to the outfile as the mutated cds for each gene\n",
    "        out.write('Mutated CDS for Gene ORF1ab' + '\\n' + str(ORFlab) + '\\n')\n",
    "        S = (data[21562:25384])\n",
    "        out.write('Mutated CDS for Gene S' + '\\n' + str(S) + '\\n')\n",
    "        ORF3a = (data[25392:26220])\n",
    "        out.write('Mutated CDS for Gene ORF3a' + '\\n' + str(ORF3a) + '\\n')\n",
    "        E = (data[26244:26472])\n",
    "        out.write('Mutated CDS for Gene E' + '\\n' + str(E) + '\\n')\n",
    "        M = (data[26522:27191])\n",
    "        out.write('Mutated CDS for Gene M' + '\\n' + str(M) + '\\n')\n",
    "        ORF6 = (data[27201:27387])\n",
    "        out.write('Mutated CDS for Gene ORF6' + '\\n' + str(ORF6) + '\\n')\n",
    "        ORF7a = (data[27393:27759])\n",
    "        out.write('Mutated CDS for Gene ORF7a' + '\\n' + str(ORF7a) + '\\n')\n",
    "        ORF7b = (data[27755:27887])\n",
    "        out.write('Mutated CDS for Gene ORF7b' + '\\n' + str(ORF7b) + '\\n')\n",
    "        ORF8 = (data[27893:28259])\n",
    "        out.write('Mutated CDS for Gene ORF8' + '\\n' + str(ORF8) + '\\n')\n",
    "        N = (data[28273:29533])\n",
    "        out.write('Mutated CDS for Gene N' + '\\n' + str(N) + '\\n')\n",
    "        ORF10 = (data[29557:29674])\n",
    "        \n",
    "        out.write('Mutated CDS for Gene ORF10' + '\\n' + str(ORF10) + '\\n')\n",
    "        out.close()\n",
    "             "
   ]
  },
  {
   "cell_type": "code",
   "execution_count": 5,
   "metadata": {},
   "outputs": [],
   "source": [
    "#Translate each CDS to get the protein sequences \n",
    "from Bio import SeqIO\n",
    "def parse_fasta_protein (input_file):\n",
    "    input_file = SeqIO.parse(input_file, 'fasta')\n",
    "    #with open(out_file, 'w') as out_file:\n",
    "    # DNA codon table\n",
    "    protein = {\"TTT\" : \"F\", \"CTT\" : \"L\", \"ATT\" : \"I\", \"GTT\" : \"V\",\n",
    "           \"TTC\" : \"F\", \"CTC\" : \"L\", \"ATC\" : \"I\", \"GTC\" : \"V\",\n",
    "           \"TTA\" : \"L\", \"CTA\" : \"L\", \"ATA\" : \"I\", \"GTA\" : \"V\",\n",
    "           \"TTG\" : \"L\", \"CTG\" : \"L\", \"ATG\" : \"M\", \"GTG\" : \"V\",\n",
    "           \"TCT\" : \"S\", \"CCT\" : \"P\", \"ACT\" : \"T\", \"GCT\" : \"A\",\n",
    "           \"TCC\" : \"S\", \"CCC\" : \"P\", \"ACC\" : \"T\", \"GCC\" : \"A\",\n",
    "           \"TCA\" : \"S\", \"CCA\" : \"P\", \"ACA\" : \"T\", \"GCA\" : \"A\",\n",
    "           \"TCG\" : \"S\", \"CCG\" : \"P\", \"ACG\" : \"T\", \"GCG\" : \"A\",\n",
    "           \"TAT\" : \"Y\", \"CAT\" : \"H\", \"AAT\" : \"N\", \"GAT\" : \"D\",\n",
    "           \"TAC\" : \"Y\", \"CAC\" : \"H\", \"AAC\" : \"N\", \"GAC\" : \"D\",\n",
    "           \"TAA\" : \"STOP\", \"CAA\" : \"Q\", \"AAA\" : \"K\", \"GAA\" : \"E\",\n",
    "           \"TAG\" : \"STOP\", \"CAG\" : \"Q\", \"AAG\" : \"K\", \"GAG\" : \"E\",\n",
    "           \"TGT\" : \"C\", \"CGT\" : \"R\", \"AGT\" : \"S\", \"GGT\" : \"G\",\n",
    "           \"TGC\" : \"C\", \"CGC\" : \"R\", \"AGC\" : \"S\", \"GGC\" : \"G\",\n",
    "           \"TGA\" : \"STOP\", \"CGA\" : \"R\", \"AGA\" : \"R\", \"GGA\" : \"G\",\n",
    "           \"TGG\" : \"W\", \"CGG\" : \"R\", \"AGG\" : \"R\", \"GGG\" : \"G\" \n",
    "           }\n",
    "    protein_sequence = \"\"\n",
    "    for line in input_file:\n",
    "        if symbol in line.description:  \n",
    "            Seq1 = line.seq\n",
    "    for i in range(0, len(Seq1)-(3+len(Seq1)%3), 3):\n",
    "        if protein[Seq1[i:i+3]] == \"STOP\" :\n",
    "            break\n",
    "        protein_sequence += protein[Seq1[i:i+3]]\n",
    "        print(protein_sequence)\n",
    "\n"
   ]
  },
  {
   "cell_type": "code",
   "execution_count": 6,
   "metadata": {},
   "outputs": [
    {
     "ename": "NameError",
     "evalue": "name 'symbol' is not defined",
     "output_type": "error",
     "traceback": [
      "\u001b[1;31m---------------------------------------------------------------------------\u001b[0m",
      "\u001b[1;31mNameError\u001b[0m                                 Traceback (most recent call last)",
      "\u001b[1;32m<ipython-input-6-91f3f5867c34>\u001b[0m in \u001b[0;36m<module>\u001b[1;34m\u001b[0m\n\u001b[1;32m----> 1\u001b[1;33m \u001b[0mparse_fasta_protein\u001b[0m\u001b[1;33m(\u001b[0m\u001b[1;34m\"SARS-CoV-2-CdsFastaResults.fasta\"\u001b[0m\u001b[1;33m)\u001b[0m\u001b[1;33m\u001b[0m\u001b[1;33m\u001b[0m\u001b[0m\n\u001b[0m",
      "\u001b[1;32m<ipython-input-5-1b6390b9becd>\u001b[0m in \u001b[0;36mparse_fasta_protein\u001b[1;34m(input_file)\u001b[0m\n\u001b[0;32m     26\u001b[0m     \u001b[0mprotein_sequence\u001b[0m \u001b[1;33m=\u001b[0m \u001b[1;34m\"\"\u001b[0m\u001b[1;33m\u001b[0m\u001b[1;33m\u001b[0m\u001b[0m\n\u001b[0;32m     27\u001b[0m     \u001b[1;32mfor\u001b[0m \u001b[0mline\u001b[0m \u001b[1;32min\u001b[0m \u001b[0minput_file\u001b[0m\u001b[1;33m:\u001b[0m\u001b[1;33m\u001b[0m\u001b[1;33m\u001b[0m\u001b[0m\n\u001b[1;32m---> 28\u001b[1;33m         \u001b[1;32mif\u001b[0m \u001b[0msymbol\u001b[0m \u001b[1;32min\u001b[0m \u001b[0mline\u001b[0m\u001b[1;33m.\u001b[0m\u001b[0mdescription\u001b[0m\u001b[1;33m:\u001b[0m\u001b[1;33m\u001b[0m\u001b[1;33m\u001b[0m\u001b[0m\n\u001b[0m\u001b[0;32m     29\u001b[0m             \u001b[0mSeq1\u001b[0m \u001b[1;33m=\u001b[0m \u001b[0mline\u001b[0m\u001b[1;33m.\u001b[0m\u001b[0mseq\u001b[0m\u001b[1;33m\u001b[0m\u001b[1;33m\u001b[0m\u001b[0m\n\u001b[0;32m     30\u001b[0m     \u001b[1;32mfor\u001b[0m \u001b[0mi\u001b[0m \u001b[1;32min\u001b[0m \u001b[0mrange\u001b[0m\u001b[1;33m(\u001b[0m\u001b[1;36m0\u001b[0m\u001b[1;33m,\u001b[0m \u001b[0mlen\u001b[0m\u001b[1;33m(\u001b[0m\u001b[0mSeq1\u001b[0m\u001b[1;33m)\u001b[0m\u001b[1;33m-\u001b[0m\u001b[1;33m(\u001b[0m\u001b[1;36m3\u001b[0m\u001b[1;33m+\u001b[0m\u001b[0mlen\u001b[0m\u001b[1;33m(\u001b[0m\u001b[0mSeq1\u001b[0m\u001b[1;33m)\u001b[0m\u001b[1;33m%\u001b[0m\u001b[1;36m3\u001b[0m\u001b[1;33m)\u001b[0m\u001b[1;33m,\u001b[0m \u001b[1;36m3\u001b[0m\u001b[1;33m)\u001b[0m\u001b[1;33m:\u001b[0m\u001b[1;33m\u001b[0m\u001b[1;33m\u001b[0m\u001b[0m\n",
      "\u001b[1;31mNameError\u001b[0m: name 'symbol' is not defined"
     ]
    }
   ],
   "source": [
    "parse_fasta_protein(\"SARS-CoV-2-CdsFastaResults.fasta\")"
   ]
  },
  {
   "cell_type": "code",
   "execution_count": null,
   "metadata": {},
   "outputs": [],
   "source": []
  },
  {
   "cell_type": "code",
   "execution_count": null,
   "metadata": {},
   "outputs": [],
   "source": []
  }
 ],
 "metadata": {
  "kernelspec": {
   "display_name": "Python 3",
   "language": "python",
   "name": "python3"
  },
  "language_info": {
   "codemirror_mode": {
    "name": "ipython",
    "version": 3
   },
   "file_extension": ".py",
   "mimetype": "text/x-python",
   "name": "python",
   "nbconvert_exporter": "python",
   "pygments_lexer": "ipython3",
   "version": "3.8.5"
  }
 },
 "nbformat": 4,
 "nbformat_minor": 2
}
